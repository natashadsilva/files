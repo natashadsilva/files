{
 "cells": [
  {
   "cell_type": "markdown",
   "metadata": {},
   "source": [
    "# render-metro-views\n",
    "\n",
    "Display the views that the metro application is providing. \n",
    "\n",
    "### Before you begin,  verify that you've executed [build-metro-application](./build-metro-application.jupyter-py36.ipynb) notebook.\n",
    "The build-metro-application notebook composes and submits the metro application that recieves status from the edge, this notebook renders data from the metro application.\n",
    "\n",
    "The metro application recieves messages on two topics from the edge. The 'Classification' messages provide statistics on the scoring on the edge, these messages are aggreagted into 25 elements. The 'Uncertain' message contains images that have a \n",
    "lower than acceptable confidence rating that require deeper analysis.\n",
    "\n",
    "This notebook renders the data processed by the metro node. "
   ]
  },
  {
   "cell_type": "code",
   "execution_count": null,
   "metadata": {},
   "outputs": [],
   "source": [
    "%matplotlib inline\n",
    "%gui asyncio\n",
    "import urllib3, time, threading, base64, sys, IPython, io\n",
    "#from IPython import display  ## DO NOT use interferes with display()\n",
    "import ipywidgets as widgets\n",
    "from ipywidgets.widgets.interaction import show_inline_matplotlib_plots\n",
    "from IPython.core.debugger import set_trace\n",
    "## \n",
    "from icpd_core import icpd_util\n",
    "from streamsx import rest\n",
    "from streamsx.topology import context\n",
    "from streamsx.rest_primitives import Instance\n",
    "if 'scripts' not in sys.path:\n",
    "    sys.path.insert(0, 'scripts')\n",
    "import digit_support\n",
    "import metrorender\n",
    "urllib3.disable_warnings()\n",
    "# Juypter 5 has the async handling fixes..\n",
    "!jupyter --version"
   ]
  },
  {
   "cell_type": "code",
   "execution_count": null,
   "metadata": {},
   "outputs": [],
   "source": [
    "# Cell to grab Streams instance config object and REST reference\n",
    "STREAMS_INSTANCE_NAME = \"<INSERT-STREAMS-INSTANCE-NAME-HERE>\"\n",
    "streams_cfg=icpd_util.get_service_instance_details(name=STREAMS_INSTANCE_NAME)\n",
    "streams_cfg[context.ConfigParams.SSL_VERIFY] = False\n",
    "instance = Instance.of_service(streams_cfg)"
   ]
  },
  {
   "cell_type": "markdown",
   "metadata": {},
   "source": [
    "# Verify that Streams is active and Views being served up."
   ]
  },
  {
   "cell_type": "code",
   "execution_count": null,
   "metadata": {},
   "outputs": [],
   "source": [
    "# Verify that the job is healthy/up before proceding..\n",
    "\n",
    "urllib3.disable_warnings()\n",
    "# list the active jobs \n",
    "digit_support.list_jobs(instance, cancel=False)"
   ]
  },
  {
   "cell_type": "code",
   "execution_count": null,
   "metadata": {},
   "outputs": [],
   "source": [
    "# List the active views - should see 3 here.\n",
    "\n",
    "digit_support.display_views(instance, job_name=\"EdgeMetroSubscribe\")"
   ]
  },
  {
   "cell_type": "markdown",
   "metadata": {},
   "source": [
    "# Bring up the live Queues of Views\n",
    "- ClassificationMetrics\n",
    "- WindowUncertain"
   ]
  },
  {
   "cell_type": "code",
   "execution_count": null,
   "metadata": {},
   "outputs": [],
   "source": [
    "# WindowUncertain - queue\n",
    "output_WindowUncertain = widgets.Output()\n",
    "display(output_WindowUncertain )\n",
    "WindowUncertain_vtq = metrorender.view_to_queue(instance, \"WindowUncertain\", output_WindowUncertain)\n",
    "WindowUncertain_vtq.start()  # start\n",
    "#print(\"windowUncertain_thread\\n\\t alive:{}\\n\\t event:{}\\n\\t queue depth:{}\".format(WindowUncertain_vtq.thread.is_alive(), WindowUncertain_vtq.event.is_set(), len(WindowUncertain_vtq.tuples)))\n",
    "# WindowUncertain_vtq.event.clear()  # emergency kill\n",
    "\n",
    "# UncertainPredictions - queue\n",
    "output_UncertainPredictions = widgets.Output()\n",
    "display(output_UncertainPredictions )\n",
    "UncertainPredictions_vtq = metrorender.view_to_queue(instance, \"UncertainPredictions\", output_UncertainPredictions)\n",
    "UncertainPredictions_vtq.start()  # start\n",
    "#print(\"UncertainPredictions_thread\\n\\t alive:{}\\n\\t event:{}\\n\\t queue depth:{}\".format(UncertainPredictions_vtq.thread.is_alive(), UncertainPredictions_vtq.event.is_set(), len(UncertainPredictions_vtq.tuples)))\n",
    "# UncertainPredictions_vtq.event.clear()  # emergency kill"
   ]
  },
  {
   "cell_type": "code",
   "execution_count": null,
   "metadata": {},
   "outputs": [],
   "source": [
    "%%script false --no-raise-error\n",
    "# uncertain_vtq.event.clear()  # emergency kill - if the button does not work\n",
    "time.sleep(2)\n",
    "print(\"WindowUncertain_thread\\n\\t alive:{}\\n\\t event:{}\\n\\t queue depth:{}\".format(\n",
    "    WindowUncertain_vtq.thread.is_alive(), \n",
    "    WindowUncertain_vtq.event.is_set(), \n",
    "    len(WindowUncertain_vtq.tuples)))\n",
    "\n",
    "print(\"UncertainPredictions_thread\\n\\t alive:{}\\n\\t event:{}\\n\\t queue depth:{}\".format(UncertainPredictions_vtq.thread.is_alive(), UncertainPredictions_vtq.event.is_set(), len(UncertainPredictions_vtq.tuples)))\n",
    "# UncertainPredictions_vtq.event.clear()  # emergency kill - if the button does not work"
   ]
  },
  {
   "cell_type": "markdown",
   "metadata": {},
   "source": [
    "# Specify the cameras\n",
    "\n",
    "- Discover the cameras that are avaliable by polling for X interations. Set the ACTIVE_CAMERAS to the cameras, use the checkboxes to change the cameras to observe.\n",
    "\n"
   ]
  },
  {
   "cell_type": "code",
   "execution_count": null,
   "metadata": {},
   "outputs": [],
   "source": [
    "import json\n",
    "chunks = WindowUncertain_vtq.tuples.copy()\n",
    "ACTIVE_CAMERAS = set({})\n",
    "for chunk in chunks:\n",
    "    for tups in chunk:\n",
    "        tup = json.loads(tups)\n",
    "        key_list = tup['camera_metrics'].keys()\n",
    "        ACTIVE_CAMERAS.add(list(key_list)[0])\n",
    "\n",
    "#ACTIVE_CAMERAS = {'Camera-B4', 'Camera-A4', 'Camera-C2'}\n",
    "ACTIVE_CAMERAS"
   ]
  },
  {
   "cell_type": "markdown",
   "metadata": {},
   "source": [
    "# Window Uncertain image graphs\n",
    "\n",
    "Display the throughput of each camera, the number of images processed and the % of images scored with certainty. \n",
    "Drops in certainty can be related to a myriad of issues including: model decay, hardware (camera) faults, environment (dust),...\n"
   ]
  },
  {
   "cell_type": "code",
   "execution_count": null,
   "metadata": {},
   "outputs": [],
   "source": [
    "#%%script false --no-raise-error\n",
    "idx = 1\n",
    "while (len(WindowUncertain_vtq.tuples) < 5):\n",
    "    print(\"priming{}\".format(idx*\".\"),end=\"\\n\")\n",
    "    idx += 1\n",
    "    time.sleep(2)\n",
    "print(\"primmed           \")\n",
    "output_graphs = widgets.Output()\n",
    "display(output_graphs)\n",
    "synchronous_event = threading.Event()\n",
    "synchronous = metrorender.deque_synchronous(WindowUncertain_vtq.tuples, count=5, debug=False)\n",
    "rwu =  metrorender.RenderWindowUncertain(output_graphs, ACTIVE_CAMERAS)\n",
    "try: \n",
    "    rwu.render(synchronous,synchronous_event)\n",
    "except KeyboardInterrupt:\n",
    "    print(\"Interrupt caught...\")\n",
    "    rwu.class_status_widget.value = \"Interupt * Finished\"\n",
    "rwu.class_status_widget.value = \"Rendering - Finished\"\n",
    " "
   ]
  },
  {
   "cell_type": "markdown",
   "metadata": {},
   "source": [
    "# Display sampled set uncertain images.\n",
    "\n",
    "As images are scored images those that do not exceed the confidenc e level are returned\n",
    "to the Metro edge. The edge would save this images for further anlaysis and be build \n",
    "a more robust model.\n",
    "\n",
    "Below is a sampling of the uncertain images images, the images arrive at Metro node continuiously. \n",
    "The images are sampled from the Metro node and rendered in this notebook. \n"
   ]
  },
  {
   "cell_type": "code",
   "execution_count": null,
   "metadata": {},
   "outputs": [],
   "source": [
    "#%%script false --no-raise-error\n",
    "# Un-threaded version\n",
    "output_uncertain = widgets.Output()\n",
    "display(output_uncertain)\n",
    "rui = metrorender.RenderUncertainImages(output_uncertain)\n",
    "rui.stop_button.description = \"Use Interrupt\"\n",
    "rui.stop_button.tooltip = \"Use Interrupt Kernel above\"\n",
    "active = True\n",
    "try:\n",
    "    while active:\n",
    "        try:\n",
    "            rui.display_view(UncertainPredictions_vtq.tuples.pop(), \"live\")\n",
    "            time.sleep(2) # slow down - prevent widget overrunq\n",
    "        except IndexError:\n",
    "            time.sleep(3)\n",
    "except KeyboardInterrupt:\n",
    "    active = False\n",
    "    rui.interrupt_stopped(\"Review displayed Images\")"
   ]
  },
  {
   "cell_type": "markdown",
   "metadata": {},
   "source": [
    "### Display images within a thread issues.\n",
    "According to this [posting](https://ipywidgets.readthedocs.io/en/latest/examples/Output%20Widget.html) \n",
    "you should pass the output widget into the thread. \n",
    "I'm doing it here, it works for the widgets other than images. Only the first images is displayed. When the thread is stopped and the review phase\n",
    "is in effect it works.\n",
    "\n",
    "Thus I've disabled it for now, to enable add a comment to the first line of the cell below. "
   ]
  },
  {
   "cell_type": "code",
   "execution_count": null,
   "metadata": {},
   "outputs": [],
   "source": [
    "%%script false --no-raise-error\n",
    "\n",
    "output_uncertain = widgets.Output()\n",
    "display(output_uncertain)\n",
    "\n",
    "def thread_function(something, output):\n",
    "    rui = metrorender.RenderUncertainImages()\n",
    "    rui.next_button.disabled = True\n",
    "    rui.previous_button.disabled = True\n",
    "    rui.stop_button.disabled = False\n",
    "\n",
    "    output.append_display_data(rui.dashboard)\n",
    "    rui.active.set()\n",
    "    while rui.active.is_set():\n",
    "        try:\n",
    "            rui.display_view(UncertainPredictions_vtq.tuples.pop(), \"live\")\n",
    "            time.sleep(2) # slow down - prevent widget overrun\n",
    "        except IndexError:\n",
    "            time.sleep(3)\n",
    "\n",
    "thread = threading.Thread(target=thread_function,args=(\"some ext\", output_uncertain))\n",
    "thread.start()\n"
   ]
  },
  {
   "cell_type": "markdown",
   "metadata": {},
   "source": [
    "# Correction Station.\n",
    "\n",
    "The current model is not perfect, overtime it encounters images that it cannot classify with confidence, these images are sent down the 'UncertainPrediction' view. In order to improve the model, the questionable images need to be assigned a value and added into the training data for the next round of model regeneration. The purpose of this\n",
    "dashboard is to review the questionalble images and modify the prediction as necessary as well as expose other \n",
    "problem in the infrastructure that may have occured.\n",
    "\n",
    "Not all the issues are due to model issues, those images need to be handled as well. Some images may be bad due to faulty hardware or camera misalighment.\n",
    "\n",
    "The questional images and thier scores are displayed those that need to be correct, set the correct value. When done, the 'Further Processing' button will upload the images and corrections. The images tagged with updated digit values will be added to the next round of training data, the other images will be forwarded on to the appropriate party."
   ]
  },
  {
   "cell_type": "code",
   "execution_count": null,
   "metadata": {},
   "outputs": [],
   "source": [
    "#%%script false --no-raise-error\n",
    "\n",
    "while len(UncertainPredictions_vtq.tuples)< 20:\n",
    "    time.sleep(3)\n",
    "    print(\" - waiting for events ...\")\n",
    "snapShot = UncertainPredictions_vtq.tuples.copy()\n",
    "cd = metrorender.CorrectionDashboard()\n",
    "cd.render_review(snapShot)"
   ]
  }
 ],
 "metadata": {
  "kernelspec": {
   "display_name": "Python 3",
   "language": "python",
   "name": "python3"
  },
  "language_info": {
   "codemirror_mode": {
    "name": "ipython",
    "version": 3
   },
   "file_extension": ".py",
   "mimetype": "text/x-python",
   "name": "python",
   "nbconvert_exporter": "python",
   "pygments_lexer": "ipython3",
   "version": "3.7.5"
  },
  "pycharm": {
   "stem_cell": {
    "cell_type": "raw",
    "metadata": {
     "collapsed": false
    },
    "source": []
   }
  }
 },
 "nbformat": 4,
 "nbformat_minor": 4
}
